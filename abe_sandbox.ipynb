{
 "cells": [
  {
   "cell_type": "code",
   "execution_count": 2,
   "metadata": {},
   "outputs": [],
   "source": [
    "import numpy as np\n",
    "from matplotlib import pyplot as plt\n",
    "from scipy.integrate import solve_ivp\n",
    "from scipy.interpolate import CubicSpline\n",
    "\n",
    "import matplotlib as mpl\n",
    "mpl.rcParams['figure.dpi'] = 100"
   ]
  },
  {
   "cell_type": "markdown",
   "metadata": {},
   "source": [
    "### Code up single-state electricity production problem\n",
    "\n",
    "This might not be perfect since this will likely ignore our battery."
   ]
  },
  {
   "cell_type": "code",
   "execution_count": null,
   "metadata": {},
   "outputs": [],
   "source": [
    "# Constants\n",
    "R = 10 # how much renewable resources we have\n",
    "renewable_function = lambda x: R * np.sin(x)\n"
   ]
  },
  {
   "cell_type": "code",
   "execution_count": 3,
   "metadata": {},
   "outputs": [],
   "source": [
    "def state_equations(t, x, u_interpolation):\n",
    "    \"\"\"\n",
    "    Parameters:\n",
    "        t : float\n",
    "            the time\n",
    "        x : ndarray (1,)\n",
    "            the total energy production at time t\n",
    "        u_interpolation : CubicSpline\n",
    "            the values of the control u_interpolation(t) = [u1(t), u2(t)]\n",
    "    \n",
    "    Returns:\n",
    "        x_dot : ndarray (1,)\n",
    "            the rate energy production rate at time t\n",
    "    \"\"\"\n",
    "    u = u_interpolation(t)\n",
    "    x_dot = R + u\n",
    "\n",
    "    return np.array(x_dot)"
   ]
  }
 ],
 "metadata": {
  "kernelspec": {
   "display_name": "Python 3",
   "language": "python",
   "name": "python3"
  },
  "language_info": {
   "codemirror_mode": {
    "name": "ipython",
    "version": 3
   },
   "file_extension": ".py",
   "mimetype": "text/x-python",
   "name": "python",
   "nbconvert_exporter": "python",
   "pygments_lexer": "ipython3",
   "version": "3.10.12"
  }
 },
 "nbformat": 4,
 "nbformat_minor": 2
}
