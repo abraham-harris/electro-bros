{
 "cells": [
  {
   "cell_type": "code",
   "execution_count": 5,
   "metadata": {},
   "outputs": [],
   "source": [
    "import numpy as np\n",
    "from matplotlib import pyplot as plt\n",
    "from scipy.integrate import solve_ivp\n",
    "from scipy.interpolate import CubicSpline\n",
    "\n",
    "import matplotlib as mpl\n",
    "mpl.rcParams['figure.dpi'] = 100"
   ]
  },
  {
   "cell_type": "markdown",
   "metadata": {},
   "source": [
    "### Code up single-state electricity production problem\n",
    "\n",
    "This might not be perfect since this will likely ignore our battery."
   ]
  },
  {
   "cell_type": "code",
   "execution_count": 6,
   "metadata": {},
   "outputs": [],
   "source": [
    "def state_equations(t, x, u_interpolation, renewable_function):\n",
    "    \"\"\"\n",
    "    Parameters:\n",
    "        t : float\n",
    "            the time\n",
    "        x : ndarray (1,)\n",
    "            the total energy production at time t\n",
    "        u_interpolation : CubicSpline\n",
    "            the values of the control u_interpolation(t) = [u1(t), u2(t)]\n",
    "    \n",
    "    Returns:\n",
    "        x_dot : ndarray (1,)\n",
    "            the rate energy production rate at time t\n",
    "    \"\"\"\n",
    "    u = u_interpolation(t)\n",
    "    R = renewable_function(t)\n",
    "    x_dot = R + u\n",
    "\n",
    "    return np.array(x_dot)"
   ]
  },
  {
   "cell_type": "code",
   "execution_count": 7,
   "metadata": {},
   "outputs": [],
   "source": [
    "def costate_equations(t, x, u_interpolation, state_solution,renewable_function):\n",
    "    '''\n",
    "    Parameters\n",
    "    ---------------\n",
    "    t : float\n",
    "        the time\n",
    "    y : ndarray (2,)\n",
    "        the lambda values at time t \n",
    "    u_interpolation : CubicSpline\n",
    "                      the values of the control u_interpolation(t) = [u1(t), u2(t)]\n",
    "    state_solution : result of solve_ivp on state_equations with\n",
    "        dense_output=True, i.e., state_solution.sol(t) = [T(t), V(t)]\n",
    "    constants : a_1, a_2, b_1, b_2, s_1, s_2, mu, k, g, c, B_1, B_2, A_1, A_2\n",
    "    \n",
    "    Returns\n",
    "    --------------\n",
    "    y_dot : ndarray (2,)\n",
    "            the derivative of lambda at time t\n",
    "    '''\n",
    "    x = state_solution.sol(t)\n",
    "    u  = u_interpolation(t)\n",
    "    R = renewable_function(t)\n",
    "    \n",
    "\n",
    "    return [-1 + l1*(mu+k*V-u1) + l2*c*V, l1*(B_1*s_2/((B_1+V)**2) + k*T) - l2*((B_2*g*(1-u2)/(B_2+V)**2) - c*T)]"
   ]
  },
  {
   "cell_type": "code",
   "execution_count": null,
   "metadata": {},
   "outputs": [],
   "source": [
    "\n",
    "# R function\n",
    "renewable_function = lambda t: R * np.sin(t)\n",
    "# Define other constants.\n",
    "x0 = 1\n",
    "demand = lambda t: 100*np.sin(t)+ 1000*np.cos(t)\n",
    "t_f = 1\n",
    "\n",
    "# Initialize state, costate, and u.\n",
    "state0 = np.array([x0])\n",
    "costate0 = np.zeros(2)\n",
    "\n",
    "u = np.zeros(1008) #This is 1 week in 10 minute intervals\n",
    "\n",
    "max_step = 0.5\n",
    "\n",
    "epsilon = 0.001\n",
    "test = epsilon + 1\n",
    "\n",
    "tls = np.linspace(0, t_f, n)\n",
    "while(test > epsilon):\n",
    "    oldu = u.copy()\n",
    "    # u_interpolation = CubicSpline(...)\n",
    "    u_interpolation = CubicSpline(tls,oldu, axis =1)\n",
    "    # Solve the state equations forward in time.\n",
    "    # state_solution = solve_ivp(...)\n",
    "    \"\"\"Time domain\"\"\"\n",
    "    t_span = (0,t_f)\n",
    "    \"\"\"Initial conditions\"\"\"\n",
    "    '''Solving'''\n",
    "    sol_state = solve_ivp(state_equations, t_span, state0,args = (u_interpolation, renewable_function),method=\"RK45\",dense_output=True)\n",
    "\n",
    "    # Solve the costate equations backward in time.\n",
    "    \"\"\"Time domain\"\"\"\n",
    "    t_span = (t_f,0)\n",
    "    \"\"\"Initial conditions\"\"\"\n",
    "    '''Solving'''\n",
    "    #Solve backwards since only have endpoint conditions for costate\n",
    "    sol_costate = solve_ivp(costate_equations, (t_f, 0), costate0, method=\"RK45\", t_eval=tls[::-1], args=(u_interpolation, sol_state, renewable_function),dense_output=True, max_step=max_step)\n",
    "\n",
    "    # Solve for u1 and u2.\n",
    "    def newu(t):\n",
    "        x = sol_state.sol(t)\n",
    "        l1,l2 = sol_costate.sol(t)\n",
    "        return np.array([np.clip(((1/(2*A_1))*(l1*T)),a_1, b_1),np.clip((-l2/(2*A_2))*(g*V/(B_2+V)),a_2,b_2)])\n",
    "    # Update control u with u1 and u2.\n",
    "    u[0],u[1] = newu(tls)\n",
    "    #print(u)\n",
    "    # Test for convergence\n",
    "    test = abs(oldu - u).sum()"
   ]
  }
 ],
 "metadata": {
  "kernelspec": {
   "display_name": "Python 3",
   "language": "python",
   "name": "python3"
  },
  "language_info": {
   "codemirror_mode": {
    "name": "ipython",
    "version": 3
   },
   "file_extension": ".py",
   "mimetype": "text/x-python",
   "name": "python",
   "nbconvert_exporter": "python",
   "pygments_lexer": "ipython3",
   "version": "3.10.15"
  }
 },
 "nbformat": 4,
 "nbformat_minor": 2
}
