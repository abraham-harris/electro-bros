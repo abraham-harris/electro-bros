{
 "cells": [
  {
   "cell_type": "code",
   "execution_count": null,
   "metadata": {},
   "outputs": [],
   "source": [
    "import numpy as np\n",
    "import yaml\n",
    "\n",
    "class Powergrid():\n",
    "    def __init__(self, config_file=None):\n",
    "        if self.config_file is None:\n",
    "            self.config_file = \"config.yaml\"\n",
    "        \n",
    "        self.config = self.load_config(self.config_file)\n",
    "\n",
    "        # self.demand_fn = getattr(np, self.config[\"demand_fn\"])\n",
    "\n",
    "        self.wind_fn = lambda t : np.sin(4*t)\n",
    "        self.solar_fn = lambda t : np.sin(2*t)\n",
    "        self.demand_fn = np.sin\n",
    "\n",
    "        self.u = [lambda t : 1 for _ in range(3)]\n",
    "        self.uc = [1 for _ in range(2)]\n",
    "\n",
    "        self.alpha = 1\n",
    "        self.beta = 1\n",
    "        self.gamma = 1\n",
    "        self.delta = 1\n",
    "        self.epsilon = 1\n",
    "\n",
    "    def load_config(self):\n",
    "        with open(self.config_file, 'r') as file:\n",
    "            return yaml.safe_load(file)\n",
    "\n",
    "    def L(self, ):\n",
    "\n",
    "        return \n",
    "        \n",
    "    def state_equation(self, t, x):\n",
    "        return np.array([self.uc[0]*self.wind_fn(t) + self.uc[1]*self.solar_fn(t) + self.u[0](t) - (self.demand_fn(t) - self.u[1](t)),\n",
    "                         self.u[0](t) - self.u[1](t) - self.epsilon * x[1]])\n",
    "    \n",
    "    def costate_equation(self, t, x):\n",
    "        # Need to solve for the mus\n",
    "        return np.array([0. -x[1] * self.epsilon + ])\n",
    "        \n"
   ]
  }
 ],
 "metadata": {
  "language_info": {
   "name": "python"
  }
 },
 "nbformat": 4,
 "nbformat_minor": 2
}
